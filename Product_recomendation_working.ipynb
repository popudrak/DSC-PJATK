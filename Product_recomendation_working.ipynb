{
  "nbformat": 4,
  "nbformat_minor": 0,
  "metadata": {
    "colab": {
      "provenance": [],
      "authorship_tag": "ABX9TyNOikyUcjRKPrg6F4ZO7Y2E",
      "include_colab_link": true
    },
    "kernelspec": {
      "name": "python3",
      "display_name": "Python 3"
    },
    "language_info": {
      "name": "python"
    }
  },
  "cells": [
    {
      "cell_type": "markdown",
      "metadata": {
        "id": "view-in-github",
        "colab_type": "text"
      },
      "source": [
        "<a href=\"https://colab.research.google.com/github/popudrak/DSC-PJATK/blob/main/Product_recomendation_working.ipynb\" target=\"_parent\"><img src=\"https://colab.research.google.com/assets/colab-badge.svg\" alt=\"Open In Colab\"/></a>"
      ]
    },
    {
      "cell_type": "code",
      "execution_count": null,
      "metadata": {
        "id": "lzErVMpQIVMK",
        "colab": {
          "base_uri": "https://localhost:8080/"
        },
        "outputId": "a29f6f90-fa63-4354-c2ff-f67a36440dd0"
      },
      "outputs": [
        {
          "output_type": "stream",
          "name": "stdout",
          "text": [
            "Collecting lightfm\n",
            "  Downloading lightfm-1.17.tar.gz (316 kB)\n",
            "\u001b[?25l     \u001b[90m━━━━━━━━━━━━━━━━━━━━━━━━━━━━━━━━━━━━━━━━\u001b[0m \u001b[32m0.0/316.4 kB\u001b[0m \u001b[31m?\u001b[0m eta \u001b[36m-:--:--\u001b[0m\r\u001b[2K     \u001b[91m━━━━━━━━━━━━━━━━━━━━━━━━━━━━━━━━━━━━\u001b[0m\u001b[91m╸\u001b[0m\u001b[90m━\u001b[0m \u001b[32m307.2/316.4 kB\u001b[0m \u001b[31m10.2 MB/s\u001b[0m eta \u001b[36m0:00:01\u001b[0m\r\u001b[2K     \u001b[90m━━━━━━━━━━━━━━━━━━━━━━━━━━━━━━━━━━━━━━━\u001b[0m \u001b[32m316.4/316.4 kB\u001b[0m \u001b[31m7.0 MB/s\u001b[0m eta \u001b[36m0:00:00\u001b[0m\n",
            "\u001b[?25h  Preparing metadata (setup.py) ... \u001b[?25l\u001b[?25hdone\n",
            "Requirement already satisfied: numpy in /usr/local/lib/python3.11/dist-packages (from lightfm) (2.0.2)\n",
            "Requirement already satisfied: scipy>=0.17.0 in /usr/local/lib/python3.11/dist-packages (from lightfm) (1.15.3)\n",
            "Requirement already satisfied: requests in /usr/local/lib/python3.11/dist-packages (from lightfm) (2.32.3)\n",
            "Requirement already satisfied: scikit-learn in /usr/local/lib/python3.11/dist-packages (from lightfm) (1.6.1)\n",
            "Requirement already satisfied: charset-normalizer<4,>=2 in /usr/local/lib/python3.11/dist-packages (from requests->lightfm) (3.4.2)\n",
            "Requirement already satisfied: idna<4,>=2.5 in /usr/local/lib/python3.11/dist-packages (from requests->lightfm) (3.10)\n",
            "Requirement already satisfied: urllib3<3,>=1.21.1 in /usr/local/lib/python3.11/dist-packages (from requests->lightfm) (2.4.0)\n",
            "Requirement already satisfied: certifi>=2017.4.17 in /usr/local/lib/python3.11/dist-packages (from requests->lightfm) (2025.6.15)\n",
            "Requirement already satisfied: joblib>=1.2.0 in /usr/local/lib/python3.11/dist-packages (from scikit-learn->lightfm) (1.5.1)\n",
            "Requirement already satisfied: threadpoolctl>=3.1.0 in /usr/local/lib/python3.11/dist-packages (from scikit-learn->lightfm) (3.6.0)\n",
            "Building wheels for collected packages: lightfm\n",
            "  Building wheel for lightfm (setup.py) ... \u001b[?25l\u001b[?25hdone\n",
            "  Created wheel for lightfm: filename=lightfm-1.17-cp311-cp311-linux_x86_64.whl size=831125 sha256=74582c88e8d943dc8eaa105cfb0686a98c9fe844220e74ae3151b6814c40ba83\n",
            "  Stored in directory: /root/.cache/pip/wheels/b9/0d/8a/0729d2e6e3ca2a898ba55201f905da7db3f838a33df5b3fcdd\n",
            "Successfully built lightfm\n",
            "Installing collected packages: lightfm\n",
            "Successfully installed lightfm-1.17\n"
          ]
        }
      ],
      "source": [
        "pip install lightfm"
      ]
    },
    {
      "cell_type": "code",
      "source": [
        "import pandas as pd\n",
        "import numpy as np\n",
        "import json\n",
        "import os"
      ],
      "metadata": {
        "id": "eJZYonu8LmlP"
      },
      "execution_count": null,
      "outputs": []
    },
    {
      "cell_type": "code",
      "source": [
        "train = pd.read_csv(\"train.csv\")\n",
        "test = pd.read_csv(\"test.csv\")\n",
        "item_metadata = pd.read_csv(\"item_metadata_filtered.csv\")\n",
        "\n",
        "with open(\"id_mappings.json\", \"r\") as f:\n",
        "    id_mappings = json.load(f)\n",
        "\n",
        "user_mapping = id_mappings[\"user_mapping\"]\n",
        "item_mapping = id_mappings[\"item_mapping\"]\n",
        "user_reverse_mapping = id_mappings[\"user_reverse_mapping\"]\n",
        "item_reverse_mapping = id_mappings[\"item_reverse_mapping\"]"
      ],
      "metadata": {
        "id": "M0cV728yLq8A"
      },
      "execution_count": null,
      "outputs": []
    },
    {
      "cell_type": "code",
      "source": [
        "print(\"Train shape:\", train.shape)\n",
        "print(\"Test shape:\", test.shape)\n",
        "print(\"Item metadata shape:\", item_metadata.shape)\n",
        "\n",
        "print(\"\\nTrain head:\")\n",
        "print(train.head())\n",
        "\n",
        "print(\"\\nTest head:\")\n",
        "print(test.head())\n",
        "\n",
        "print(\"\\nItem metadata head:\")\n",
        "print(item_metadata.head())"
      ],
      "metadata": {
        "colab": {
          "base_uri": "https://localhost:8080/"
        },
        "id": "swd8__IsLtmE",
        "outputId": "69eb6bd6-d0ae-41f1-cad2-0023de6f3277"
      },
      "execution_count": null,
      "outputs": [
        {
          "output_type": "stream",
          "name": "stdout",
          "text": [
            "Train shape: (2543146, 4)\n",
            "Test shape: (412461, 2)\n",
            "Item metadata shape: (77833, 15)\n",
            "\n",
            "Train head:\n",
            "   user_id  item_id  rating      timestamp\n",
            "0        0     7314     5.0  1353612262000\n",
            "1        0    15493     5.0  1370653034000\n",
            "2        0    18817     4.0  1373668644000\n",
            "3        0    18251     4.0  1373669469000\n",
            "4        0    16199     1.0  1375136041000\n",
            "\n",
            "Test head:\n",
            "   user_id  predictions\n",
            "0        0            0\n",
            "1        1            0\n",
            "2        3            0\n",
            "3        5            0\n",
            "4        6            0\n",
            "\n",
            "Item metadata head:\n",
            "  parent_asin main_category  \\\n",
            "0  B07WFSQXL5    All Beauty   \n",
            "1  B08BV6F6BC    All Beauty   \n",
            "2  B07Z818MLY    All Beauty   \n",
            "3  B071DY8Z4B    All Beauty   \n",
            "4  B0BTLTVR1X    All Beauty   \n",
            "\n",
            "                                               title  average_rating  \\\n",
            "0  PPY Eyelash Growth Serum – Natural Ingredients...             3.9   \n",
            "1  Wixar Natural Sea Moss Soap - (2 PACK) - Laven...             4.4   \n",
            "2  7 Packs Deep Wave Crochet Hair 22 Inch Deep wa...             3.4   \n",
            "3  BEWAVE Hair Brush Sponge Twist With Comb Hair ...             4.2   \n",
            "4  Zydeco Chop Chop Cajun Seasoning Base, 8 Ounce...             4.7   \n",
            "\n",
            "   rating_number  price           store  \\\n",
            "0          114.0    NaN             PPY   \n",
            "1           41.0    NaN  WIXAR NATURALS   \n",
            "2           10.0    NaN    Yun Mei Hair   \n",
            "3           24.0    NaN          BEWAVE   \n",
            "4           21.0    NaN         BORELTH   \n",
            "\n",
            "                                            features  \\\n",
            "0                                                 []   \n",
            "1                                                 []   \n",
            "2                                                 []   \n",
            "3                                                 []   \n",
            "4  ['All Natural blend of Dehydrated Onion, Dehyd...   \n",
            "\n",
            "                                         description  \\\n",
            "0                                                 []   \n",
            "1                                                 []   \n",
            "2                                                 []   \n",
            "3                                                 []   \n",
            "4  ['Zydeco Chop Chop is a blend of Dehydrated On...   \n",
            "\n",
            "                                              images categories  image_count  \\\n",
            "0  {'hi_res': array(['https://m.media-amazon.com/...         []           27   \n",
            "1  {'hi_res': array(['https://m.media-amazon.com/...         []           21   \n",
            "2  {'hi_res': array(['https://m.media-amazon.com/...         []           21   \n",
            "3  {'hi_res': array(['https://m.media-amazon.com/...         []           17   \n",
            "4  {'hi_res': array(['https://m.media-amazon.com/...         []            3   \n",
            "\n",
            "   has_images                                         image_urls    category  \n",
            "0        True  ['https://m.media-amazon.com/images/I/615N6fkc...  All_Beauty  \n",
            "1        True  ['https://m.media-amazon.com/images/I/81ugegqe...  All_Beauty  \n",
            "2        True  ['https://m.media-amazon.com/images/I/71aVcpK8...  All_Beauty  \n",
            "3        True  ['https://m.media-amazon.com/images/I/61or2jYp...  All_Beauty  \n",
            "4        True  ['https://m.media-amazon.com/images/I/71707mY6...  All_Beauty  \n"
          ]
        }
      ]
    },
    {
      "cell_type": "code",
      "source": [
        "train['datetime'] = pd.to_datetime(train['timestamp'], unit='ms')"
      ],
      "metadata": {
        "id": "McT6sKCkNAgW"
      },
      "execution_count": null,
      "outputs": []
    },
    {
      "cell_type": "code",
      "source": [
        "import matplotlib.pyplot as plt\n",
        "\n",
        "n_users = train['user_id'].nunique()\n",
        "n_items = train['item_id'].nunique()\n",
        "\n",
        "print(\"Liczba użytkowników:\", n_users)\n",
        "print(\"Liczba produktów:\", n_items)\n",
        "\n",
        "plt.figure(figsize=(6, 4))\n",
        "train['rating'].hist(bins=10)\n",
        "plt.title(\"Rozkład ocen\")\n",
        "plt.xlabel(\"Ocena\")\n",
        "plt.ylabel(\"Liczba interakcji\")\n",
        "plt.grid(True)\n",
        "plt.show()\n",
        "\n",
        "user_activity = train.groupby('user_id')['item_id'].count()\n",
        "print(\"AVG interakcji na użytkownika:\", round(user_activity.mean(), 2))\n",
        "print(\"Mediana liczby interakcji:\", user_activity.median())\n",
        "\n",
        "plt.figure(figsize=(6, 4))\n",
        "user_activity.hist(bins=50, range=(0, 100))\n",
        "plt.title(\"Liczba interakcji na użytkownika\")\n",
        "plt.xlabel(\"Interakcje\")\n",
        "plt.ylabel(\"Liczba użytkowników\")\n",
        "plt.grid(True)\n",
        "plt.show()\n",
        "\n",
        "item_popularity = train.groupby('item_id')['user_id'].count()\n",
        "print(\"AVG interakcji na produkt:\", round(item_popularity.mean(), 2))\n",
        "print(\"Mediana liczby interakcji:\", item_popularity.median())\n",
        "\n",
        "plt.figure(figsize=(6, 4))\n",
        "item_popularity.hist(bins=50, range=(0, 100))\n",
        "plt.title(\"Liczba interakcji na produkt\")\n",
        "plt.xlabel(\"Interakcje\")\n",
        "plt.ylabel(\"Liczba produktów\")\n",
        "plt.grid(True)\n",
        "plt.show()\n",
        "\n",
        "\n",
        "plt.figure(figsize=(8, 4))\n",
        "train['datetime'].dt.to_period('M').value_counts().sort_index().plot()\n",
        "plt.title(\"Interakcje (miesiące)\")\n",
        "plt.xlabel(\"Data\")\n",
        "plt.ylabel(\"Liczba interakcji\")\n",
        "plt.grid(True)\n",
        "plt.show()"
      ],
      "metadata": {
        "colab": {
          "base_uri": "https://localhost:8080/",
          "height": 1000
        },
        "id": "2YNemnuINDx6",
        "outputId": "c4c536b2-9be3-45f6-ee54-f292d6c6053b"
      },
      "execution_count": null,
      "outputs": [
        {
          "output_type": "stream",
          "name": "stdout",
          "text": [
            "Liczba użytkowników: 868218\n",
            "Liczba produktów: 76747\n"
          ]
        },
        {
          "output_type": "display_data",
          "data": {
            "text/plain": [
              "<Figure size 600x400 with 1 Axes>"
            ],
            "image/png": "[encoded data removed]"
          },
          "metadata": {}
        },
        {
          "output_type": "stream",
          "name": "stdout",
          "text": [
            "AVG interakcji na użytkownika: 2.93\n",
            "Mediana liczby interakcji: 2.0\n"
          ]
        },
        {
          "output_type": "display_data",
          "data": {
            "text/plain": [
              "<Figure size 600x400 with 1 Axes>"
            ],
            "image/png": "[encoded data removed]"
          },
          "metadata": {}
        },
        {
          "output_type": "stream",
          "name": "stdout",
          "text": [
            "AVG interakcji na produkt: 33.14\n",
            "Mediana liczby interakcji: 3.0\n"
          ]
        },
        {
          "output_type": "display_data",
          "data": {
            "text/plain": [
              "<Figure size 600x400 with 1 Axes>"
            ],
            "image/png": "[encoded data removed]"
          },
          "metadata": {}
        },
        {
          "output_type": "display_data",
          "data": {
            "text/plain": [
              "<Figure size 800x400 with 1 Axes>"
            ],
            "image/png": "[encoded data removed]"
          },
          "metadata": {}
        }
      ]
    },
    {
      "cell_type": "markdown",
      "source": [
        "Top 10"
      ],
      "metadata": {
        "id": "DKdk9SIFNKeU"
      }
    },
    {
      "cell_type": "code",
      "source": [
        "popular_items = train['item_id'].value_counts().head(10).index.tolist()\n",
        "\n",
        "print(\"Top 10 (item_id):\", popular_items)\n",
        "\n",
        "test['predictions'] = [' '.join(map(str, popular_items))] * len(test)\n",
        "\n",
        "test[['user_id', 'predictions']].to_csv('submission_popular.csv', index=False)"
      ],
      "metadata": {
        "colab": {
          "base_uri": "https://localhost:8080/"
        },
        "id": "wBvlS-g-NJUW",
        "outputId": "d5b8a18e-6d8d-43ea-8f01-63f5d4d0de04"
      },
      "execution_count": null,
      "outputs": [
        {
          "output_type": "stream",
          "name": "stdout",
          "text": [
            "Top 10 (item_id): [20832, 12595, 12372, 6864, 33154, 13451, 7030, 24931, 18550, 12104]\n"
          ]
        }
      ]
    },
    {
      "cell_type": "code",
      "source": [
        "from lightfm import LightFM\n",
        "from lightfm.data import Dataset\n",
        "from scipy.sparse import coo_matrix\n",
        "import numpy as np\n",
        "import tqdm\n",
        "dataset = Dataset()\n",
        "dataset.fit(train['user_id'], train['item_id'])\n",
        "\n",
        "(interactions, weights) = dataset.build_interactions(\n",
        "    [(row['user_id'], row['item_id'], row['rating']) for _, row in train.iterrows()]\n",
        ")\n",
        "\n",
        "print(\"Wymiary macierzy interakcji (użytkownicy x produkty):\", interactions.shape)"
      ],
      "metadata": {
        "colab": {
          "base_uri": "https://localhost:8080/"
        },
        "id": "C-tHXbx1NQoS",
        "outputId": "90089b05-9177-4573-9e45-9d2a281618c0"
      },
      "execution_count": null,
      "outputs": [
        {
          "output_type": "stream",
          "name": "stdout",
          "text": [
            "Wymiary macierzy interakcji (użytkownicy x produkty): (868218, 76747)\n"
          ]
        }
      ]
    },
    {
      "cell_type": "code",
      "source": [
        "user_ids = train['user_id'].unique()\n",
        "item_ids = train['item_id'].unique()\n",
        "\n",
        "user_id_map = {uid: i for i, uid in enumerate(user_ids)}\n",
        "item_id_map = {iid: i for i, iid in enumerate(item_ids)}\n",
        "\n",
        "user_id_reverse_map = {i: uid for uid, i in user_id_map.items()}\n",
        "item_id_reverse_map = {i: iid for iid, i in item_id_map.items()}"
      ],
      "metadata": {
        "id": "e7p2fjb80s-F"
      },
      "execution_count": null,
      "outputs": []
    },
    {
      "cell_type": "code",
      "source": [
        "train['user_idx'] = train['user_id'].map(user_id_map)\n",
        "train['item_idx'] = train['item_id'].map(item_id_map)\n",
        "\n",
        "from scipy.sparse import coo_matrix\n",
        "\n",
        "interactions = coo_matrix(\n",
        "    (train['rating'], (train['user_idx'], train['item_idx'])),\n",
        "    shape=(len(user_id_map), len(item_id_map))\n",
        ").tocsr()"
      ],
      "metadata": {
        "id": "mkZaM6G70vq4"
      },
      "execution_count": null,
      "outputs": []
    },
    {
      "cell_type": "code",
      "source": [
        "model = LightFM(loss='warp', no_components=32)\n",
        "model.fit(interactions, epochs=10, num_threads=4)"
      ],
      "metadata": {
        "colab": {
          "base_uri": "https://localhost:8080/"
        },
        "id": "uyCoR0EJ0xVE",
        "outputId": "a68936cb-fd66-4a1e-b2be-b60d1b654216"
      },
      "execution_count": null,
      "outputs": [
        {
          "output_type": "execute_result",
          "data": {
            "text/plain": [
              "<lightfm.lightfm.LightFM at 0x7ce0f0151810>"
            ]
          },
          "metadata": {},
          "execution_count": 12
        }
      ]
    },
    {
      "cell_type": "code",
      "source": [
        "import tqdm\n",
        "\n",
        "all_items = np.arange(interactions.shape[1])\n",
        "user_seen_items = train.groupby('user_id')['item_id'].apply(set).to_dict()\n",
        "\n",
        "submission = []\n",
        "\n",
        "for uid in tqdm.tqdm(test['user_id'].values):\n",
        "    if uid not in user_id_map:\n",
        "        continue\n",
        "\n",
        "    uidx = user_id_map[uid]\n",
        "    seen = set(train[train['user_idx'] == uidx]['item_idx'].values)\n",
        "\n",
        "    item_indices = np.arange(len(item_id_map))\n",
        "    user_ids = np.repeat(uidx, len(item_indices))\n",
        "    scores = model.predict(user_ids, item_indices)\n",
        "\n",
        "    top_idxs = [i for i in np.argsort(-scores) if i not in seen][:10]\n",
        "    top_items = [item_id_reverse_map[i] for i in top_idxs]\n",
        "\n",
        "    submission.append((uid, ' '.join(map(str, top_items))))\n",
        "\n",
        "submission_df = pd.DataFrame(submission, columns=['user_id', 'predictions'])\n",
        "submission_df.to_csv(\"submission_lightfm_remapped.csv\", index=False)\n",
        "\n",
        "print(\"Gotowe — plik zapisany.\")"
      ],
      "metadata": {
        "colab": {
          "base_uri": "https://localhost:8080/"
        },
        "id": "6_uFRlvA08GJ",
        "outputId": "ffeb4c1a-6bb0-4c66-88fb-fded15137447"
      },
      "execution_count": null,
      "outputs": [
        {
          "output_type": "stream",
          "name": "stderr",
          "text": [
            "100%|██████████| 412461/412461 [3:48:15<00:00, 30.12it/s]\n"
          ]
        },
        {
          "output_type": "stream",
          "name": "stdout",
          "text": [
            "Gotowe — plik zapisany.\n"
          ]
        }
      ]
    },
    {
      "cell_type": "markdown",
      "source": [
        "##Dostrajanie modelu"
      ],
      "metadata": {
        "id": "SKTZYMaV9Yr1"
      }
    },
    {
      "cell_type": "code",
      "source": [
        "model = LightFM(loss='warp', no_components=64)\n",
        "model.fit(interactions, epochs=30, num_threads=4)"
      ],
      "metadata": {
        "colab": {
          "base_uri": "https://localhost:8080/"
        },
        "id": "qB5mnkrA9Xm1",
        "outputId": "4e19952b-93db-4a11-d153-fc95b0cdd472"
      },
      "execution_count": null,
      "outputs": [
        {
          "output_type": "execute_result",
          "data": {
            "text/plain": [
              "<lightfm.lightfm.LightFM at 0x7ce0a09b7790>"
            ]
          },
          "metadata": {},
          "execution_count": 15
        }
      ]
    },
    {
      "cell_type": "code",
      "source": [
        "all_item_indices = np.arange(len(item_id_map))\n",
        "\n",
        "user_seen_items = train.groupby('user_idx')['item_idx'].apply(set).to_dict()\n",
        "\n",
        "submission = []\n",
        "\n",
        "for uid in tqdm.tqdm(test['user_id'].values):\n",
        "    if uid not in user_id_map:\n",
        "        continue\n",
        "\n",
        "    uidx = user_id_map[uid]\n",
        "    seen = set(train[train['user_idx'] == uidx]['item_idx'].values)\n",
        "\n",
        "    item_indices = np.arange(len(item_id_map))\n",
        "    user_ids = np.repeat(uidx, len(item_indices))\n",
        "    scores = model.predict(user_ids, item_indices)\n",
        "\n",
        "    top_idxs = [i for i in np.argsort(-scores) if i not in seen][:10]\n",
        "    top_items = [item_id_reverse_map[i] for i in top_idxs]\n",
        "\n",
        "    submission.append((uid, ' '.join(map(str, top_items))))\n",
        "\n",
        "submission_df = pd.DataFrame(submission, columns=['user_id', 'predictions'])\n",
        "submission_df.to_csv(\"submission_lightfm_tuned.csv\", index=False)\n",
        "\n",
        "print(\"Gotowe — plik zapisany\")"
      ],
      "metadata": {
        "colab": {
          "base_uri": "https://localhost:8080/"
        },
        "id": "SexCyliE93FB",
        "outputId": "c15249fd-7f1c-4acd-f4db-ca05608287d9"
      },
      "execution_count": null,
      "outputs": [
        {
          "output_type": "stream",
          "name": "stderr",
          "text": [
            "100%|██████████| 412461/412461 [5:01:12<00:00, 22.82it/s]\n"
          ]
        },
        {
          "output_type": "stream",
          "name": "stdout",
          "text": [
            "Gotowe — plik zapisany\n"
          ]
        }
      ]
    },
    {
      "cell_type": "markdown",
      "source": [
        "## Dodanie cech produktów (item_features) do LightFM"
      ],
      "metadata": {
        "id": "NrydMzNOEq7t"
      }
    },
    {
      "cell_type": "code",
      "source": [
        "from lightfm import LightFM\n",
        "from lightfm.data import Dataset\n",
        "from scipy.sparse import coo_matrix\n",
        "import numpy as np\n",
        "from tqdm import tqdm\n",
        "\n",
        "train = pd.read_csv(\"train.csv\")\n",
        "test = pd.read_csv(\"test.csv\")\n",
        "metadata = pd.read_csv(\"item_metadata_filtered.csv\")\n",
        "\n",
        "user_ids = train['user_id'].unique()\n",
        "item_ids = train['item_id'].unique()\n",
        "\n",
        "user_id_map = {uid: i for i, uid in enumerate(user_ids)}\n",
        "item_id_map = {iid: i for i, iid in enumerate(item_ids)}\n",
        "user_id_reverse_map = {i: uid for uid, i in user_id_map.items()}\n",
        "item_id_reverse_map = {i: iid for iid, i in item_id_map.items()}\n",
        "\n",
        "train['user_idx'] = train['user_id'].map(user_id_map)\n",
        "train['item_idx'] = train['item_id'].map(item_id_map)"
      ],
      "metadata": {
        "id": "7U-0fQPqEp1-"
      },
      "execution_count": null,
      "outputs": []
    },
    {
      "cell_type": "code",
      "source": [
        "metadata['item_idx'] = metadata['parent_asin'].map(item_id_map)\n",
        "metadata = metadata[metadata['item_idx'].notnull()]\n",
        "metadata['item_idx'] = metadata['item_idx'].astype(int)\n",
        "\n",
        "metadata['main_category'] = metadata['main_category'].fillna(\"Unknown\")\n",
        "metadata['has_images'] = metadata['has_images'].fillna(False)"
      ],
      "metadata": {
        "id": "wEKuE2dqEyB2"
      },
      "execution_count": null,
      "outputs": []
    },
    {
      "cell_type": "code",
      "source": [
        "unique_categories = metadata['main_category'].unique().tolist()\n",
        "item_features_list = ['category:' + cat for cat in unique_categories] + ['has_images']\n",
        "\n",
        "dataset = Dataset()\n",
        "dataset.fit(users=user_ids, items=item_ids)\n",
        "dataset.fit_partial(items=item_ids, item_features=item_features_list)\n",
        "\n",
        "(interactions, _) = dataset.build_interactions(\n",
        "    [(row['user_id'], row['item_id'], row['rating']) for _, row in train.iterrows()]\n",
        ")\n",
        "\n",
        "def build_item_features(metadata):\n",
        "    features = []\n",
        "    for _, row in metadata.iterrows():\n",
        "        feats = ['category:' + row['main_category']]\n",
        "        if row['has_images']:\n",
        "            feats.append('has_images')\n",
        "        features.append((row['parent_asin'], feats))\n",
        "    return features\n",
        "\n",
        "item_features = dataset.build_item_features(build_item_features(metadata))"
      ],
      "metadata": {
        "id": "pCdXg-hNE0Ev"
      },
      "execution_count": null,
      "outputs": []
    },
    {
      "cell_type": "code",
      "source": [
        "model = LightFM(loss='warp', no_components=128)\n",
        "model.fit(interactions, item_features=item_features, epochs=50, num_threads=8)"
      ],
      "metadata": {
        "colab": {
          "base_uri": "https://localhost:8080/"
        },
        "id": "5zm7etBIE4M0",
        "outputId": "3f05d25a-1eb7-44c8-af2e-3ede89dbfe81"
      },
      "execution_count": null,
      "outputs": [
        {
          "output_type": "execute_result",
          "data": {
            "text/plain": [
              "<lightfm.lightfm.LightFM at 0x79fc63f86950>"
            ]
          },
          "metadata": {},
          "execution_count": 18
        }
      ]
    },
    {
      "cell_type": "code",
      "source": [
        "submission = []\n",
        "\n",
        "train['user_idx'] = train['user_id'].map(user_id_map)\n",
        "train['item_idx'] = train['item_id'].map(item_id_map)\n",
        "user_seen_items = train.groupby('user_idx')['item_idx'].apply(set).to_dict()\n",
        "\n",
        "all_item_indices = np.arange(len(item_id_map))\n",
        "\n",
        "for uid in tqdm(test['user_id'].values):\n",
        "    if uid not in user_id_map:\n",
        "        continue\n",
        "\n",
        "    uidx = user_id_map[uid]\n",
        "    seen = user_seen_items.get(uidx, set())\n",
        "    user_ids = np.repeat(uidx, len(all_item_indices))\n",
        "\n",
        "    scores = model.predict(user_ids, all_item_indices, item_features=item_features)\n",
        "    top_idxs = [i for i in np.argsort(-scores) if i not in seen][:10]\n",
        "    top_items = [item_id_reverse_map[i] for i in top_idxs]\n",
        "\n",
        "    submission.append((uid, ' '.join(map(str, top_items))))\n",
        "\n",
        "submission_df = pd.DataFrame(submission, columns=['user_id', 'predictions'])\n",
        "submission_df.to_csv(\"submission_lightfm_features.csv\", index=False)"
      ],
      "metadata": {
        "colab": {
          "base_uri": "https://localhost:8080/",
          "height": 365
        },
        "id": "iNt46m63E6ca",
        "outputId": "054598dc-2718-4b4e-f31f-7708372d69c0"
      },
      "execution_count": null,
      "outputs": [
        {
          "output_type": "stream",
          "name": "stderr",
          "text": [
            "  2%|▏         | 7108/412461 [06:22<6:03:33, 18.58it/s]\n"
          ]
        },
        {
          "output_type": "error",
          "ename": "KeyboardInterrupt",
          "evalue": "",
          "traceback": [
            "\u001b[0;31m---------------------------------------------------------------------------\u001b[0m",
            "\u001b[0;31mKeyboardInterrupt\u001b[0m                         Traceback (most recent call last)",
            "\u001b[0;32m/tmp/ipython-input-19-1863440786.py\u001b[0m in \u001b[0;36m<cell line: 0>\u001b[0;34m()\u001b[0m\n\u001b[1;32m     18\u001b[0m \u001b[0;34m\u001b[0m\u001b[0m\n\u001b[1;32m     19\u001b[0m     \u001b[0mscores\u001b[0m \u001b[0;34m=\u001b[0m \u001b[0mmodel\u001b[0m\u001b[0;34m.\u001b[0m\u001b[0mpredict\u001b[0m\u001b[0;34m(\u001b[0m\u001b[0muser_ids\u001b[0m\u001b[0;34m,\u001b[0m \u001b[0mall_item_indices\u001b[0m\u001b[0;34m,\u001b[0m \u001b[0mitem_features\u001b[0m\u001b[0;34m=\u001b[0m\u001b[0mitem_features\u001b[0m\u001b[0;34m)\u001b[0m\u001b[0;34m\u001b[0m\u001b[0;34m\u001b[0m\u001b[0m\n\u001b[0;32m---> 20\u001b[0;31m     \u001b[0mtop_idxs\u001b[0m \u001b[0;34m=\u001b[0m \u001b[0;34m[\u001b[0m\u001b[0mi\u001b[0m \u001b[0;32mfor\u001b[0m \u001b[0mi\u001b[0m \u001b[0;32min\u001b[0m \u001b[0mnp\u001b[0m\u001b[0;34m.\u001b[0m\u001b[0margsort\u001b[0m\u001b[0;34m(\u001b[0m\u001b[0;34m-\u001b[0m\u001b[0mscores\u001b[0m\u001b[0;34m)\u001b[0m \u001b[0;32mif\u001b[0m \u001b[0mi\u001b[0m \u001b[0;32mnot\u001b[0m \u001b[0;32min\u001b[0m \u001b[0mseen\u001b[0m\u001b[0;34m]\u001b[0m\u001b[0;34m[\u001b[0m\u001b[0;34m:\u001b[0m\u001b[0;36m10\u001b[0m\u001b[0;34m]\u001b[0m\u001b[0;34m\u001b[0m\u001b[0;34m\u001b[0m\u001b[0m\n\u001b[0m\u001b[1;32m     21\u001b[0m     \u001b[0mtop_items\u001b[0m \u001b[0;34m=\u001b[0m \u001b[0;34m[\u001b[0m\u001b[0mitem_id_reverse_map\u001b[0m\u001b[0;34m[\u001b[0m\u001b[0mi\u001b[0m\u001b[0;34m]\u001b[0m \u001b[0;32mfor\u001b[0m \u001b[0mi\u001b[0m \u001b[0;32min\u001b[0m \u001b[0mtop_idxs\u001b[0m\u001b[0;34m]\u001b[0m\u001b[0;34m\u001b[0m\u001b[0;34m\u001b[0m\u001b[0m\n\u001b[1;32m     22\u001b[0m \u001b[0;34m\u001b[0m\u001b[0m\n",
            "\u001b[0;32m/tmp/ipython-input-19-1863440786.py\u001b[0m in \u001b[0;36m<listcomp>\u001b[0;34m(.0)\u001b[0m\n\u001b[1;32m     18\u001b[0m \u001b[0;34m\u001b[0m\u001b[0m\n\u001b[1;32m     19\u001b[0m     \u001b[0mscores\u001b[0m \u001b[0;34m=\u001b[0m \u001b[0mmodel\u001b[0m\u001b[0;34m.\u001b[0m\u001b[0mpredict\u001b[0m\u001b[0;34m(\u001b[0m\u001b[0muser_ids\u001b[0m\u001b[0;34m,\u001b[0m \u001b[0mall_item_indices\u001b[0m\u001b[0;34m,\u001b[0m \u001b[0mitem_features\u001b[0m\u001b[0;34m=\u001b[0m\u001b[0mitem_features\u001b[0m\u001b[0;34m)\u001b[0m\u001b[0;34m\u001b[0m\u001b[0;34m\u001b[0m\u001b[0m\n\u001b[0;32m---> 20\u001b[0;31m     \u001b[0mtop_idxs\u001b[0m \u001b[0;34m=\u001b[0m \u001b[0;34m[\u001b[0m\u001b[0mi\u001b[0m \u001b[0;32mfor\u001b[0m \u001b[0mi\u001b[0m \u001b[0;32min\u001b[0m \u001b[0mnp\u001b[0m\u001b[0;34m.\u001b[0m\u001b[0margsort\u001b[0m\u001b[0;34m(\u001b[0m\u001b[0;34m-\u001b[0m\u001b[0mscores\u001b[0m\u001b[0;34m)\u001b[0m \u001b[0;32mif\u001b[0m \u001b[0mi\u001b[0m \u001b[0;32mnot\u001b[0m \u001b[0;32min\u001b[0m \u001b[0mseen\u001b[0m\u001b[0;34m]\u001b[0m\u001b[0;34m[\u001b[0m\u001b[0;34m:\u001b[0m\u001b[0;36m10\u001b[0m\u001b[0;34m]\u001b[0m\u001b[0;34m\u001b[0m\u001b[0;34m\u001b[0m\u001b[0m\n\u001b[0m\u001b[1;32m     21\u001b[0m     \u001b[0mtop_items\u001b[0m \u001b[0;34m=\u001b[0m \u001b[0;34m[\u001b[0m\u001b[0mitem_id_reverse_map\u001b[0m\u001b[0;34m[\u001b[0m\u001b[0mi\u001b[0m\u001b[0;34m]\u001b[0m \u001b[0;32mfor\u001b[0m \u001b[0mi\u001b[0m \u001b[0;32min\u001b[0m \u001b[0mtop_idxs\u001b[0m\u001b[0;34m]\u001b[0m\u001b[0;34m\u001b[0m\u001b[0;34m\u001b[0m\u001b[0m\n\u001b[1;32m     22\u001b[0m \u001b[0;34m\u001b[0m\u001b[0m\n",
            "\u001b[0;31mKeyboardInterrupt\u001b[0m: "
          ]
        }
      ]
    }
  ]
}