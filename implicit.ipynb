{
  "nbformat": 4,
  "nbformat_minor": 0,
  "metadata": {
    "colab": {
      "provenance": [],
      "authorship_tag": "ABX9TyOdyoumf1qRAjd27SPYXrx9",
      "include_colab_link": true
    },
    "kernelspec": {
      "name": "python3",
      "display_name": "Python 3"
    },
    "language_info": {
      "name": "python"
    },
    "widgets": {
      "application/vnd.jupyter.widget-state+json": {
        "3c7a45dc8cd343daa4dff91ac808b053": {
          "model_module": "@jupyter-widgets/controls",
          "model_name": "HBoxModel",
          "model_module_version": "1.5.0",
          "state": {
            "_dom_classes": [],
            "_model_module": "@jupyter-widgets/controls",
            "_model_module_version": "1.5.0",
            "_model_name": "HBoxModel",
            "_view_count": null,
            "_view_module": "@jupyter-widgets/controls",
            "_view_module_version": "1.5.0",
            "_view_name": "HBoxView",
            "box_style": "",
            "children": [
              "IPY_MODEL_1dffc833e57945f299c24078a3127ebf",
              "IPY_MODEL_022b7ffb4624451aa0cc82e5408bf92f",
              "IPY_MODEL_d816784394804312b9c0e0aa7c6ced2d"
            ],
            "layout": "IPY_MODEL_c7160ca682c144ae8647800852d0e59b"
          }
        },
        "1dffc833e57945f299c24078a3127ebf": {
          "model_module": "@jupyter-widgets/controls",
          "model_name": "HTMLModel",
          "model_module_version": "1.5.0",
          "state": {
            "_dom_classes": [],
            "_model_module": "@jupyter-widgets/controls",
            "_model_module_version": "1.5.0",
            "_model_name": "HTMLModel",
            "_view_count": null,
            "_view_module": "@jupyter-widgets/controls",
            "_view_module_version": "1.5.0",
            "_view_name": "HTMLView",
            "description": "",
            "description_tooltip": null,
            "layout": "IPY_MODEL_48f6659922aa4534bf0d129b843a21de",
            "placeholder": "​",
            "style": "IPY_MODEL_f17018ead02e48df987c5fddc2d6a36e",
            "value": "100%"
          }
        },
        "022b7ffb4624451aa0cc82e5408bf92f": {
          "model_module": "@jupyter-widgets/controls",
          "model_name": "FloatProgressModel",
          "model_module_version": "1.5.0",
          "state": {
            "_dom_classes": [],
            "_model_module": "@jupyter-widgets/controls",
            "_model_module_version": "1.5.0",
            "_model_name": "FloatProgressModel",
            "_view_count": null,
            "_view_module": "@jupyter-widgets/controls",
            "_view_module_version": "1.5.0",
            "_view_name": "ProgressView",
            "bar_style": "success",
            "description": "",
            "description_tooltip": null,
            "layout": "IPY_MODEL_49d4a60877a34934b8d1a6e7717f5ca9",
            "max": 50,
            "min": 0,
            "orientation": "horizontal",
            "style": "IPY_MODEL_732fe67c501b413780369fe31d492312",
            "value": 50
          }
        },
        "d816784394804312b9c0e0aa7c6ced2d": {
          "model_module": "@jupyter-widgets/controls",
          "model_name": "HTMLModel",
          "model_module_version": "1.5.0",
          "state": {
            "_dom_classes": [],
            "_model_module": "@jupyter-widgets/controls",
            "_model_module_version": "1.5.0",
            "_model_name": "HTMLModel",
            "_view_count": null,
            "_view_module": "@jupyter-widgets/controls",
            "_view_module_version": "1.5.0",
            "_view_name": "HTMLView",
            "description": "",
            "description_tooltip": null,
            "layout": "IPY_MODEL_91f553d9b2f34679ab7afa7729d910df",
            "placeholder": "​",
            "style": "IPY_MODEL_5a9cd813b13447a08dd2b530014a2f75",
            "value": " 50/50 [07:57&lt;00:00,  9.25s/it]"
          }
        },
        "c7160ca682c144ae8647800852d0e59b": {
          "model_module": "@jupyter-widgets/base",
          "model_name": "LayoutModel",
          "model_module_version": "1.2.0",
          "state": {
            "_model_module": "@jupyter-widgets/base",
            "_model_module_version": "1.2.0",
            "_model_name": "LayoutModel",
            "_view_count": null,
            "_view_module": "@jupyter-widgets/base",
            "_view_module_version": "1.2.0",
            "_view_name": "LayoutView",
            "align_content": null,
            "align_items": null,
            "align_self": null,
            "border": null,
            "bottom": null,
            "display": null,
            "flex": null,
            "flex_flow": null,
            "grid_area": null,
            "grid_auto_columns": null,
            "grid_auto_flow": null,
            "grid_auto_rows": null,
            "grid_column": null,
            "grid_gap": null,
            "grid_row": null,
            "grid_template_areas": null,
            "grid_template_columns": null,
            "grid_template_rows": null,
            "height": null,
            "justify_content": null,
            "justify_items": null,
            "left": null,
            "margin": null,
            "max_height": null,
            "max_width": null,
            "min_height": null,
            "min_width": null,
            "object_fit": null,
            "object_position": null,
            "order": null,
            "overflow": null,
            "overflow_x": null,
            "overflow_y": null,
            "padding": null,
            "right": null,
            "top": null,
            "visibility": null,
            "width": null
          }
        },
        "48f6659922aa4534bf0d129b843a21de": {
          "model_module": "@jupyter-widgets/base",
          "model_name": "LayoutModel",
          "model_module_version": "1.2.0",
          "state": {
            "_model_module": "@jupyter-widgets/base",
            "_model_module_version": "1.2.0",
            "_model_name": "LayoutModel",
            "_view_count": null,
            "_view_module": "@jupyter-widgets/base",
            "_view_module_version": "1.2.0",
            "_view_name": "LayoutView",
            "align_content": null,
            "align_items": null,
            "align_self": null,
            "border": null,
            "bottom": null,
            "display": null,
            "flex": null,
            "flex_flow": null,
            "grid_area": null,
            "grid_auto_columns": null,
            "grid_auto_flow": null,
            "grid_auto_rows": null,
            "grid_column": null,
            "grid_gap": null,
            "grid_row": null,
            "grid_template_areas": null,
            "grid_template_columns": null,
            "grid_template_rows": null,
            "height": null,
            "justify_content": null,
            "justify_items": null,
            "left": null,
            "margin": null,
            "max_height": null,
            "max_width": null,
            "min_height": null,
            "min_width": null,
            "object_fit": null,
            "object_position": null,
            "order": null,
            "overflow": null,
            "overflow_x": null,
            "overflow_y": null,
            "padding": null,
            "right": null,
            "top": null,
            "visibility": null,
            "width": null
          }
        },
        "f17018ead02e48df987c5fddc2d6a36e": {
          "model_module": "@jupyter-widgets/controls",
          "model_name": "DescriptionStyleModel",
          "model_module_version": "1.5.0",
          "state": {
            "_model_module": "@jupyter-widgets/controls",
            "_model_module_version": "1.5.0",
            "_model_name": "DescriptionStyleModel",
            "_view_count": null,
            "_view_module": "@jupyter-widgets/base",
            "_view_module_version": "1.2.0",
            "_view_name": "StyleView",
            "description_width": ""
          }
        },
        "49d4a60877a34934b8d1a6e7717f5ca9": {
          "model_module": "@jupyter-widgets/base",
          "model_name": "LayoutModel",
          "model_module_version": "1.2.0",
          "state": {
            "_model_module": "@jupyter-widgets/base",
            "_model_module_version": "1.2.0",
            "_model_name": "LayoutModel",
            "_view_count": null,
            "_view_module": "@jupyter-widgets/base",
            "_view_module_version": "1.2.0",
            "_view_name": "LayoutView",
            "align_content": null,
            "align_items": null,
            "align_self": null,
            "border": null,
            "bottom": null,
            "display": null,
            "flex": null,
            "flex_flow": null,
            "grid_area": null,
            "grid_auto_columns": null,
            "grid_auto_flow": null,
            "grid_auto_rows": null,
            "grid_column": null,
            "grid_gap": null,
            "grid_row": null,
            "grid_template_areas": null,
            "grid_template_columns": null,
            "grid_template_rows": null,
            "height": null,
            "justify_content": null,
            "justify_items": null,
            "left": null,
            "margin": null,
            "max_height": null,
            "max_width": null,
            "min_height": null,
            "min_width": null,
            "object_fit": null,
            "object_position": null,
            "order": null,
            "overflow": null,
            "overflow_x": null,
            "overflow_y": null,
            "padding": null,
            "right": null,
            "top": null,
            "visibility": null,
            "width": null
          }
        },
        "732fe67c501b413780369fe31d492312": {
          "model_module": "@jupyter-widgets/controls",
          "model_name": "ProgressStyleModel",
          "model_module_version": "1.5.0",
          "state": {
            "_model_module": "@jupyter-widgets/controls",
            "_model_module_version": "1.5.0",
            "_model_name": "ProgressStyleModel",
            "_view_count": null,
            "_view_module": "@jupyter-widgets/base",
            "_view_module_version": "1.2.0",
            "_view_name": "StyleView",
            "bar_color": null,
            "description_width": ""
          }
        },
        "91f553d9b2f34679ab7afa7729d910df": {
          "model_module": "@jupyter-widgets/base",
          "model_name": "LayoutModel",
          "model_module_version": "1.2.0",
          "state": {
            "_model_module": "@jupyter-widgets/base",
            "_model_module_version": "1.2.0",
            "_model_name": "LayoutModel",
            "_view_count": null,
            "_view_module": "@jupyter-widgets/base",
            "_view_module_version": "1.2.0",
            "_view_name": "LayoutView",
            "align_content": null,
            "align_items": null,
            "align_self": null,
            "border": null,
            "bottom": null,
            "display": null,
            "flex": null,
            "flex_flow": null,
            "grid_area": null,
            "grid_auto_columns": null,
            "grid_auto_flow": null,
            "grid_auto_rows": null,
            "grid_column": null,
            "grid_gap": null,
            "grid_row": null,
            "grid_template_areas": null,
            "grid_template_columns": null,
            "grid_template_rows": null,
            "height": null,
            "justify_content": null,
            "justify_items": null,
            "left": null,
            "margin": null,
            "max_height": null,
            "max_width": null,
            "min_height": null,
            "min_width": null,
            "object_fit": null,
            "object_position": null,
            "order": null,
            "overflow": null,
            "overflow_x": null,
            "overflow_y": null,
            "padding": null,
            "right": null,
            "top": null,
            "visibility": null,
            "width": null
          }
        },
        "5a9cd813b13447a08dd2b530014a2f75": {
          "model_module": "@jupyter-widgets/controls",
          "model_name": "DescriptionStyleModel",
          "model_module_version": "1.5.0",
          "state": {
            "_model_module": "@jupyter-widgets/controls",
            "_model_module_version": "1.5.0",
            "_model_name": "DescriptionStyleModel",
            "_view_count": null,
            "_view_module": "@jupyter-widgets/base",
            "_view_module_version": "1.2.0",
            "_view_name": "StyleView",
            "description_width": ""
          }
        }
      }
    }
  },
  "cells": [
    {
      "cell_type": "markdown",
      "metadata": {
        "id": "view-in-github",
        "colab_type": "text"
      },
      "source": [
        "<a href=\"https://colab.research.google.com/github/popudrak/DSC-PJATK/blob/main/implicit.ipynb\" target=\"_parent\"><img src=\"https://colab.research.google.com/assets/colab-badge.svg\" alt=\"Open In Colab\"/></a>"
      ]
    },
    {
      "cell_type": "code",
      "source": [
        "pip install implicit"
      ],
      "metadata": {
        "colab": {
          "base_uri": "https://localhost:8080/"
        },
        "id": "a6MeoAYRS6rH",
        "outputId": "8b00868a-2509-40e4-d01e-5f515196d6f3"
      },
      "execution_count": null,
      "outputs": [
        {
          "output_type": "stream",
          "name": "stdout",
          "text": [
            "Collecting implicit\n",
            "  Downloading implicit-0.7.2-cp311-cp311-manylinux2014_x86_64.whl.metadata (6.1 kB)\n",
            "Requirement already satisfied: numpy>=1.17.0 in /usr/local/lib/python3.11/dist-packages (from implicit) (2.0.2)\n",
            "Requirement already satisfied: scipy>=0.16 in /usr/local/lib/python3.11/dist-packages (from implicit) (1.15.3)\n",
            "Requirement already satisfied: tqdm>=4.27 in /usr/local/lib/python3.11/dist-packages (from implicit) (4.67.1)\n",
            "Requirement already satisfied: threadpoolctl in /usr/local/lib/python3.11/dist-packages (from implicit) (3.6.0)\n",
            "Downloading implicit-0.7.2-cp311-cp311-manylinux2014_x86_64.whl (8.9 MB)\n",
            "\u001b[2K   \u001b[90m━━━━━━━━━━━━━━━━━━━━━━━━━━━━━━━━━━━━━━━━\u001b[0m \u001b[32m8.9/8.9 MB\u001b[0m \u001b[31m45.5 MB/s\u001b[0m eta \u001b[36m0:00:00\u001b[0m\n",
            "\u001b[?25hInstalling collected packages: implicit\n",
            "Successfully installed implicit-0.7.2\n"
          ]
        }
      ]
    },
    {
      "cell_type": "code",
      "execution_count": null,
      "metadata": {
        "colab": {
          "base_uri": "https://localhost:8080/"
        },
        "id": "zzsp8i5ISWMB",
        "outputId": "dcafb3c2-0b05-4f0e-8a77-9cdd93b8ff52"
      },
      "outputs": [
        {
          "output_type": "stream",
          "name": "stdout",
          "text": [
            "Liczba produktów z mappingu JSON: 77833\n",
            "Liczba użytkowników z mappingu JSON: 868218\n"
          ]
        }
      ],
      "source": [
        "import pandas as pd\n",
        "import numpy as np\n",
        "import scipy.sparse as sp\n",
        "from implicit.bpr import BayesianPersonalizedRanking\n",
        "from implicit.nearest_neighbours import bm25_weight\n",
        "import json\n",
        "from implicit.als import AlternatingLeastSquares\n",
        "\n",
        "train = pd.read_csv(\"train.csv\")\n",
        "test = pd.read_csv(\"test.csv\")\n",
        "\n",
        "with open(\"id_mappings.json\", \"r\") as f:\n",
        "    id_mappings = json.load(f)\n",
        "\n",
        "item_mapping_json = id_mappings[\"item_mapping\"]\n",
        "item_reverse_mapping_json = id_mappings[\"item_reverse_mapping\"]\n",
        "user_mapping_json = id_mappings[\"user_mapping\"]\n",
        "user_reverse_mapping_json = id_mappings[\"user_reverse_mapping\"]\n",
        "\n",
        "all_product_ids = [str(k) for k in item_mapping_json.keys()]\n",
        "all_user_ids = [f\"user_{str(k)}\" for k in user_mapping_json.keys()]\n",
        "\n",
        "item_mapping_manual = {pid: idx for idx, pid in enumerate(all_product_ids)}\n",
        "reverse_item_mapping_manual = {idx: pid for pid, idx in item_mapping_manual.items()}\n",
        "user_mapping_manual = {uid: idx for idx, uid in enumerate(all_user_ids)}\n",
        "reverse_user_mapping_manual = {idx: uid for uid, idx in user_mapping_manual.items()}\n",
        "\n",
        "print(f\"Liczba produktów z mappingu JSON: {len(all_product_ids)}\")\n",
        "print(f\"Liczba użytkowników z mappingu JSON: {len(all_user_ids)}\")\n",
        "\n",
        "assert len(all_product_ids) == len(item_mapping_json), \"Niespójność w mapowaniu produktów!\"\n",
        "assert len(all_user_ids) == len(user_mapping_json), \"Niespójność w mapowaniu użytkowników!\""
      ]
    },
    {
      "cell_type": "code",
      "source": [
        "train['product_id_str'] = train['item_id'].map(lambda x: str(item_reverse_mapping_json[str(x)]))\n",
        "train['user_id_str'] = train['user_id'].map(lambda x: f\"user_{str(user_reverse_mapping_json[str(x)])}\")\n",
        "\n",
        "train['item_idx'] = train['product_id_str'].map(item_mapping_manual)\n",
        "train['user_idx'] = train['user_id_str'].map(user_mapping_manual)\n",
        "\n",
        "assert train['item_idx'].isna().sum() == 0, \"Są produkty w danych treningowych, których nie ma w mappingu!\"\n",
        "assert train['user_idx'].isna().sum() == 0, \"Są użytkownicy w danych treningowych, których nie ma w mappingu!\"\n",
        "\n",
        "print(\"Mapowanie danych treningowych poprawne.\")"
      ],
      "metadata": {
        "colab": {
          "base_uri": "https://localhost:8080/"
        },
        "id": "RBqPECq2c9De",
        "outputId": "92cb044b-c634-4b0b-b1fe-60a0b7d69cce"
      },
      "execution_count": null,
      "outputs": [
        {
          "output_type": "stream",
          "name": "stdout",
          "text": [
            "Mapowanie danych treningowych poprawne.\n"
          ]
        }
      ]
    },
    {
      "cell_type": "code",
      "source": [
        "interactions = sp.coo_matrix(\n",
        "    (train['rating'].astype(np.float32), (train['item_idx'], train['user_idx'])),\n",
        "    shape=(len(all_product_ids), len(all_user_ids))\n",
        ").tocsr()\n",
        "\n",
        "interactions_weighted = bm25_weight(interactions, K1=100, B=0.9)\n",
        "user_item_matrix = interactions_weighted.T.tocsr()\n",
        "\n",
        "print(f\"Rozmiar macierzy interakcji: {interactions.shape}\")\n",
        "assert interactions.shape[0] == len(all_product_ids), \"Nieprawidłowy rozmiar macierzy - produkty!\"\n",
        "assert interactions.shape[1] == len(all_user_ids), \"Nieprawidłowy rozmiar macierzy - użytkownicy!\""
      ],
      "metadata": {
        "colab": {
          "base_uri": "https://localhost:8080/"
        },
        "id": "5Q_fc9woUoyn",
        "outputId": "d2ebeeb9-a8bc-4a44-94a6-ebfe86a79953"
      },
      "execution_count": null,
      "outputs": [
        {
          "output_type": "stream",
          "name": "stdout",
          "text": [
            "Rozmiar macierzy interakcji: (77833, 868218)\n"
          ]
        }
      ]
    },
    {
      "cell_type": "code",
      "source": [
        "print(\"Rozmiar user-item matrix:\", user_item_matrix.shape)\n",
        "assert user_item_matrix.shape[1] == len(all_product_ids), \"Liczba produktów nie zgadza się!\"\n",
        "assert user_item_matrix.shape[0] == len(all_user_ids), \"Liczba użytkowników nie zgadza się!\""
      ],
      "metadata": {
        "colab": {
          "base_uri": "https://localhost:8080/"
        },
        "id": "uCevfegZekMg",
        "outputId": "65400e86-d377-4dc8-9be4-d27c0c61d9f6"
      },
      "execution_count": null,
      "outputs": [
        {
          "output_type": "stream",
          "name": "stdout",
          "text": [
            "Rozmiar user-item matrix: (868218, 77833)\n"
          ]
        }
      ]
    },
    {
      "cell_type": "code",
      "source": [
        "model = AlternatingLeastSquares(factors=128, regularization=0.1, iterations=50)\n",
        "model.fit(user_item_matrix)\n",
        "\n",
        "print(f\"Model factors shape (produkty x wymiary): {model.item_factors.shape}\")\n",
        "assert model.item_factors.shape[0] == len(all_product_ids), \"Model wytrenowany na niewłaściwej liczbie produktów!\""
      ],
      "metadata": {
        "colab": {
          "base_uri": "https://localhost:8080/",
          "height": 66,
          "referenced_widgets": [
            "3c7a45dc8cd343daa4dff91ac808b053",
            "1dffc833e57945f299c24078a3127ebf",
            "022b7ffb4624451aa0cc82e5408bf92f",
            "d816784394804312b9c0e0aa7c6ced2d",
            "c7160ca682c144ae8647800852d0e59b",
            "48f6659922aa4534bf0d129b843a21de",
            "f17018ead02e48df987c5fddc2d6a36e",
            "49d4a60877a34934b8d1a6e7717f5ca9",
            "732fe67c501b413780369fe31d492312",
            "91f553d9b2f34679ab7afa7729d910df",
            "5a9cd813b13447a08dd2b530014a2f75"
          ]
        },
        "id": "XaPXN0fVZgJv",
        "outputId": "edb48e9d-d77e-4b5b-922f-027ffb0c6964"
      },
      "execution_count": null,
      "outputs": [
        {
          "output_type": "display_data",
          "data": {
            "text/plain": [
              "  0%|          | 0/50 [00:00<?, ?it/s]"
            ],
            "application/vnd.jupyter.widget-view+json": {
              "version_major": 2,
              "version_minor": 0,
              "model_id": "3c7a45dc8cd343daa4dff91ac808b053"
            }
          },
          "metadata": {}
        },
        {
          "output_type": "stream",
          "name": "stdout",
          "text": [
            "Model factors shape (produkty x wymiary): (77833, 128)\n"
          ]
        }
      ]
    },
    {
      "cell_type": "code",
      "source": [
        "all_predicted_products = []\n",
        "\n",
        "for pred in submission_df['predictions']:\n",
        "    all_predicted_products.extend(pred.split(\" \"))\n",
        "\n",
        "all_predicted_products = set(all_predicted_products)\n",
        "print(f\"Liczba unikalnych produktów w predykcjach: {len(all_predicted_products)}\")\n",
        "\n",
        "# Zakres produktów znanych z mappingu\n",
        "known_product_ids = set(item_reverse_mapping_json.values())\n",
        "print(f\"Liczba znanych produktów w mappingu: {len(known_product_ids)}\")\n",
        "\n",
        "# Czy wszystkie produkty z predykcji są faktycznie znane?\n",
        "unknown_products = [p for p in all_predicted_products if p not in known_product_ids]\n",
        "print(f\"Liczba nieznanych produktów w predykcjach: {len(unknown_products)}\")"
      ],
      "metadata": {
        "colab": {
          "base_uri": "https://localhost:8080/"
        },
        "id": "YAec0q7Xnfbp",
        "outputId": "3ed30dfa-92f1-4299-a08d-1aae896706b3"
      },
      "execution_count": null,
      "outputs": [
        {
          "output_type": "stream",
          "name": "stdout",
          "text": [
            "Liczba unikalnych produktów w predykcjach: 8332\n",
            "Liczba znanych produktów w mappingu: 77833\n",
            "Liczba nieznanych produktów w predykcjach: 0\n"
          ]
        }
      ]
    },
    {
      "cell_type": "code",
      "source": [
        "submission = []\n",
        "user_seen_items = train.groupby('user_idx')['item_idx'].apply(set).to_dict()\n",
        "\n",
        "test['user_id_str'] = test['user_id'].map(lambda x: f\"user_{str(user_reverse_mapping_json[str(x)])}\")\n",
        "test_user_indices = test['user_id_str'].map(user_mapping_manual)\n",
        "\n",
        "missing_users = test_user_indices.isna().sum()\n",
        "print(f\"Liczba nieznanych użytkowników w test.csv: {missing_users}\")\n",
        "\n",
        "for uid, uidx in zip(test['user_id'], test_user_indices):\n",
        "    if pd.isna(uidx):\n",
        "        top_items = list(item_mapping_manual.values())[:10]\n",
        "    else:\n",
        "        seen = user_seen_items.get(uidx, set())\n",
        "\n",
        "        recommended = model.recommend(\n",
        "            int(uidx),\n",
        "            user_item_matrix[int(uidx)],\n",
        "            N=20,\n",
        "            filter_items=list(seen) if seen else None\n",
        "        )\n",
        "\n",
        "        top_idxs = []\n",
        "        for idx in recommended[:10]:\n",
        "            if isinstance(idx, (np.ndarray, list)):\n",
        "                top_idxs.append(int(idx[0]))\n",
        "            else:\n",
        "                top_idxs.append(int(idx))\n",
        "\n",
        "        assert all(i in reverse_item_mapping_manual for i in top_idxs), \"Model zwrócił nieistniejący indeks produktu!\"\n",
        "        top_items = [reverse_item_mapping_manual[i] for i in top_idxs]\n",
        "\n",
        "    top_items_clean = [pid.replace(\"prod_\", \"\") for pid in top_items]\n",
        "    submission.append((uid, \" \".join(top_items_clean)))\n",
        "\n",
        "submission_df = pd.DataFrame(submission, columns=[\"user_id\", \"predictions\"])\n",
        "submission_df.to_csv(\"submission_implicit_bpr_bm25.csv\", index=False)\n",
        "print(\"Plik submission wygenerowany.\")"
      ],
      "metadata": {
        "colab": {
          "base_uri": "https://localhost:8080/"
        },
        "id": "UfhtuUz_ffJA",
        "outputId": "5bfad491-35d3-4254-e75d-e0142b8ed375"
      },
      "execution_count": null,
      "outputs": [
        {
          "output_type": "stream",
          "name": "stdout",
          "text": [
            "Liczba nieznanych użytkowników w test.csv: 0\n",
            "Plik submission wygenerowany.\n"
          ]
        }
      ]
    },
    {
      "cell_type": "code",
      "source": [
        "submission_df['predictions'].nunique()"
      ],
      "metadata": {
        "colab": {
          "base_uri": "https://localhost:8080/"
        },
        "id": "pkKJKeNHwcMS",
        "outputId": "982317ea-c852-4915-ed79-8776c64ff8b5"
      },
      "execution_count": null,
      "outputs": [
        {
          "output_type": "execute_result",
          "data": {
            "text/plain": [
              "19681"
            ]
          },
          "metadata": {},
          "execution_count": 82
        }
      ]
    },
    {
      "cell_type": "code",
      "source": [
        "product_popularity = train['item_idx'].value_counts().reset_index()\n",
        "product_popularity.columns = ['item_idx', 'interactions']\n",
        "\n",
        "print(product_popularity.head(20))"
      ],
      "metadata": {
        "colab": {
          "base_uri": "https://localhost:8080/"
        },
        "id": "V8kgJiCowe_B",
        "outputId": "f3ec1023-b917-4238-ef2d-1793fe2f6a7e"
      },
      "execution_count": null,
      "outputs": [
        {
          "output_type": "stream",
          "name": "stdout",
          "text": [
            "    item_idx  interactions\n",
            "0      20832         28303\n",
            "1      12595         22787\n",
            "2      12372         16378\n",
            "3       6864         15428\n",
            "4      33154         14792\n",
            "5      13451         13007\n",
            "6       7030         12306\n",
            "7      24931         12188\n",
            "8      18550         11628\n",
            "9      12104         11551\n",
            "10     27505         11327\n",
            "11     10719         11140\n",
            "12     50073         10777\n",
            "13     32523         10545\n",
            "14     28271         10319\n",
            "15     12895         10089\n",
            "16     65542          9816\n",
            "17     21770          9732\n",
            "18     41330          9584\n",
            "19     44247          9360\n"
          ]
        }
      ]
    }
  ]
}